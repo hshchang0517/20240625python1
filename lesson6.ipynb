{
 "cells": [
  {
   "cell_type": "code",
   "execution_count": 1,
   "metadata": {},
   "outputs": [
    {
     "name": "stdout",
     "output_type": "stream",
     "text": [
      "60~79\n"
     ]
    }
   ],
   "source": [
    "score = 78\n",
    "\n",
    "if score >= 60:\n",
    "    if score < 80:\n",
    "        print(\"60~79\")"
   ]
  },
  {
   "cell_type": "code",
   "execution_count": 3,
   "metadata": {},
   "outputs": [
    {
     "name": "stdout",
     "output_type": "stream",
     "text": [
      "0~59 80-100\n"
     ]
    }
   ],
   "source": [
    "score = 92\n",
    "\n",
    "if score >= 60 and score < 80:    #and為邏輯運算值，會組合2個布林值 也就是說分數大於等於60及小於80尖時\n",
    "    print(\"60~79\")                #印出60~79\n",
    "else:                             #而其他則印出0~59.80~100\n",
    "    print(\"0~59\",\"80-100\")"
   ]
  },
  {
   "cell_type": "code",
   "execution_count": 5,
   "metadata": {},
   "outputs": [
    {
     "name": "stdout",
     "output_type": "stream",
     "text": [
      "60~80\n"
     ]
    }
   ],
   "source": [
    "score = 72\n",
    "\n",
    "if score < 60 or score >= 80:    #or為邏輯運算值，會將2個布林值分開 也就是說分數小於60及大於等於80時\n",
    "    print(\"0~59\",\"80~100\")                #印出60~79\n",
    "else:                             #而其他則印出0~59.80~100\n",
    "    print(\"60~80\")"
   ]
  },
  {
   "cell_type": "code",
   "execution_count": 6,
   "metadata": {},
   "outputs": [
    {
     "name": "stdout",
     "output_type": "stream",
     "text": [
      "這是false的程式區段\n"
     ]
    }
   ],
   "source": [
    "if not False:                  #not常用於單項選擇 not+布林值(True 或 Faulse)\n",
    "    print(\"這是false的程式區段\") #not False表示True ; not True 表示False \n",
    "else:\n",
    "    print(\"這是true的程式區段\")\n",
    "    "
   ]
  },
  {
   "cell_type": "markdown",
   "metadata": {},
   "source": [
    "## 上課網址\n",
    "\n",
    "https://meet.google.com/yvy-xkbw-ovc\n",
    "\n",
    "#### [2024_06_25_早上]\n",
    "\n",
    "https://youtube.com/live/bNYPg5DkCT0\n",
    "\n",
    "#### [2024_06_25_下午]\n",
    "\n",
    "https://youtube.com/live/avyTSNYD5ps\n",
    "\n",
    "### [2024_06_26_早上]\n",
    "\n",
    "https://youtube.com/live/f8dlS1GHeQ8\n",
    "\n",
    "\n",
    "### [2024_06_26_下午]\n",
    "https://youtube.com/live/AOz5wnH39ao\n"
   ]
  }
 ],
 "metadata": {
  "kernelspec": {
   "display_name": "Python 3",
   "language": "python",
   "name": "python3"
  },
  "language_info": {
   "codemirror_mode": {
    "name": "ipython",
    "version": 3
   },
   "file_extension": ".py",
   "mimetype": "text/x-python",
   "name": "python",
   "nbconvert_exporter": "python",
   "pygments_lexer": "ipython3",
   "version": "3.12.3"
  }
 },
 "nbformat": 4,
 "nbformat_minor": 2
}
