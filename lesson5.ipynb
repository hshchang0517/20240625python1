{
 "cells": [
  {
   "cell_type": "code",
   "execution_count": 1,
   "metadata": {},
   "outputs": [
    {
     "name": "stdout",
     "output_type": "stream",
     "text": [
      "0\n",
      "1\n",
      "2\n",
      "3\n",
      "4\n",
      "5\n",
      "6\n",
      "7\n",
      "8\n",
      "9\n",
      "10\n"
     ]
    }
   ],
   "source": [
    "#while只在不明確知道執行的次數\n",
    "i=0\n",
    "while i<=10:\n",
    "    print(i)    #=====>如果只寫在這邊會無限迴圈 就死翹翹了\n",
    "    i+=1\n",
    "\n",
    " \n"
   ]
  },
  {
   "cell_type": "code",
   "execution_count": 2,
   "metadata": {},
   "outputs": [
    {
     "name": "stdout",
     "output_type": "stream",
     "text": [
      "0\n",
      "1\n",
      "2\n",
      "3\n",
      "4\n",
      "5\n",
      "6\n",
      "7\n",
      "8\n",
      "9\n"
     ]
    }
   ],
   "source": [
    "#while只在不明確知道執行的次數 但如果要設定明確執行次數可用break\n",
    "i=0\n",
    "while True:\n",
    "    if i>=10:    #如果i大於等於10時\n",
    "        break    #設定break來跳出迴圈 \n",
    "    print(i)   \n",
    "    i+=1\n"
   ]
  },
  {
   "cell_type": "code",
   "execution_count": 3,
   "metadata": {},
   "outputs": [
    {
     "name": "stdout",
     "output_type": "stream",
     "text": [
      "轉換int錯誤\n",
      "學生分數是190\n"
     ]
    }
   ],
   "source": [
    "#學生總分為300\n",
    "#有些學生可以加分5%\n",
    "while True:\n",
    "    try:\n",
    "        scores = int(input(\"請輸入學生分數(最高300分)\"))\n",
    "        break    \n",
    "    except ValueError:\n",
    "        print(\"轉換int錯誤\")\n",
    "    except Exception:\n",
    "        print(\"其它錯誤\")\n",
    "\n",
    "\n",
    "is_add = input(\"學生是曾否符合加分條件?(y,n)\")\n",
    "\n",
    "if is_add == \"y\": #單項選擇\n",
    "    scores *= 1.05\n",
    "    if scores > 300:\n",
    "        scores = 300\n",
    "\n",
    "print(f\"學生分數是{round(scores)}\")"
   ]
  },
  {
   "cell_type": "code",
   "execution_count": null,
   "metadata": {},
   "outputs": [],
   "source": [
    "#學生總分為300\n",
    "#有些學生可以加分5%\n",
    "while True:\n",
    "    try:\n",
    "        scores = int(input(\"請輸入學生分數(最高300分)\"))\n",
    "        if scores < 0:\n",
    "            print(\"分數不可以小於零\")\n",
    "        else:\n",
    "            if scores > 300:\n",
    "                print(\"分數不可以大於300\")\n",
    "            else:\n",
    "                break    \n",
    "    except ValueError:\n",
    "        print(\"轉換int錯誤\")\n",
    "    except Exception:\n",
    "        print(\"其它錯誤\")\n",
    "\n",
    "\n",
    "is_add = input(\"學生是曾否符合加分條件?(y,n)\")\n",
    "\n",
    "if is_add == \"y\": #單項選擇\n",
    "    scores *= 1.05\n",
    "    if scores > 300:\n",
    "        scores = 300\n",
    "\n",
    "print(f\"學生分數是{round(scores)}\")"
   ]
  },
  {
   "cell_type": "code",
   "execution_count": 4,
   "metadata": {},
   "outputs": [
    {
     "name": "stdout",
     "output_type": "stream",
     "text": [
      "分數不可以小於零\n",
      "學生分數是10\n"
     ]
    }
   ],
   "source": [
    "#學生總分為300\n",
    "#有些學生可以加分5%\n",
    "while True:\n",
    "    try:\n",
    "        scores = int(input(\"請輸入學生分數(最高300分)\")) # if,elif,elif三個中一定只執行其中一塊程式區塊\n",
    "        if scores < 0: \n",
    "            print(\"分數不可以小於零\")\n",
    "        elif scores > 300:            #elif取代很多if\n",
    "             print(\"分數不可以大於300\")\n",
    "        else:\n",
    "            break    \n",
    "    except ValueError:\n",
    "        print(\"轉換int錯誤\")\n",
    "    except Exception:\n",
    "        print(\"其它錯誤\")\n",
    "\n",
    "\n",
    "is_add = input(\"學生是曾否符合加分條件?(y,n)\")\n",
    "\n",
    "if is_add == \"y\": #單項選擇\n",
    "    scores *= 1.05\n",
    "    if scores > 300:\n",
    "        scores = 300\n",
    "\n",
    "print(f\"學生分數是{round(scores)}\")"
   ]
  },
  {
   "cell_type": "code",
   "execution_count": 5,
   "metadata": {},
   "outputs": [
    {
     "name": "stdout",
     "output_type": "stream",
     "text": [
      "分數不可以小於0\n",
      "分數不可以大於300\n",
      "轉換int錯誤\n",
      "學生分數是205\n"
     ]
    }
   ],
   "source": [
    "#學生總分為300\n",
    "#有些學生可以加分5%\n",
    "while True:\n",
    "    try:\n",
    "        scores = int(input(\"請輸入學生分數(最高300分)\"))\n",
    "        if scores < 0:\n",
    "            raise Exception(\"分數不可以小於0\")\n",
    "        if scores > 300:\n",
    "            raise Exception(\"分數不可以大於300\")\n",
    "        break\n",
    "         \n",
    "    except ValueError:        #except ValueError當碰到指示錯誤時立即中斷執行程式\n",
    "        print(\"轉換int錯誤\")   #e mean error\n",
    "    except Exception as e:    #引發及處理多個無關的例外\n",
    "        print(e)    \n",
    "\n",
    "\n",
    "is_add = input(\"學生是曾否符合加分條件?(y,n)\")\n",
    "\n",
    "if is_add == \"y\": #單項選擇\n",
    "    scores *= 1.05\n",
    "    if scores > 300:\n",
    "        scores = 300\n",
    "\n",
    "print(f\"學生分數是{round(scores)}\")"
   ]
  }
 ],
 "metadata": {
  "kernelspec": {
   "display_name": "Python 3",
   "language": "python",
   "name": "python3"
  },
  "language_info": {
   "codemirror_mode": {
    "name": "ipython",
    "version": 3
   },
   "file_extension": ".py",
   "mimetype": "text/x-python",
   "name": "python",
   "nbconvert_exporter": "python",
   "pygments_lexer": "ipython3",
   "version": "3.12.3"
  }
 },
 "nbformat": 4,
 "nbformat_minor": 2
}
